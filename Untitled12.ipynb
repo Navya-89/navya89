{
  "nbformat": 4,
  "nbformat_minor": 0,
  "metadata": {
    "colab": {
      "name": "Untitled12.ipynb",
      "provenance": [],
      "authorship_tag": "ABX9TyN5ZGeyYMZGCBuCZzzp2KLP",
      "include_colab_link": true
    },
    "kernelspec": {
      "name": "python3",
      "display_name": "Python 3"
    },
    "language_info": {
      "name": "python"
    }
  },
  "cells": [
    {
      "cell_type": "markdown",
      "metadata": {
        "id": "view-in-github",
        "colab_type": "text"
      },
      "source": [
        "<a href=\"https://colab.research.google.com/github/Navya-89/navya89/blob/main/Untitled12.ipynb\" target=\"_parent\"><img src=\"https://colab.research.google.com/assets/colab-badge.svg\" alt=\"Open In Colab\"/></a>"
      ]
    },
    {
      "cell_type": "code",
      "metadata": {
        "colab": {
          "base_uri": "https://localhost:8080/"
        },
        "id": "K_HvcRj0vdbE",
        "outputId": "4e268d64-c033-453e-9dd5-01bed94eaac8"
      },
      "source": [
        "!pip install vaderSentiment"
      ],
      "execution_count": 38,
      "outputs": [
        {
          "output_type": "stream",
          "text": [
            "Collecting vaderSentiment\n",
            "\u001b[?25l  Downloading https://files.pythonhosted.org/packages/76/fc/310e16254683c1ed35eeb97386986d6c00bc29df17ce280aed64d55537e9/vaderSentiment-3.3.2-py2.py3-none-any.whl (125kB)\n",
            "\r\u001b[K     |██▋                             | 10kB 11.6MB/s eta 0:00:01\r\u001b[K     |█████▏                          | 20kB 15.7MB/s eta 0:00:01\r\u001b[K     |███████▉                        | 30kB 18.9MB/s eta 0:00:01\r\u001b[K     |██████████▍                     | 40kB 21.0MB/s eta 0:00:01\r\u001b[K     |█████████████                   | 51kB 22.6MB/s eta 0:00:01\r\u001b[K     |███████████████▋                | 61kB 24.3MB/s eta 0:00:01\r\u001b[K     |██████████████████▏             | 71kB 24.6MB/s eta 0:00:01\r\u001b[K     |████████████████████▉           | 81kB 24.8MB/s eta 0:00:01\r\u001b[K     |███████████████████████▍        | 92kB 26.0MB/s eta 0:00:01\r\u001b[K     |██████████████████████████      | 102kB 27.3MB/s eta 0:00:01\r\u001b[K     |████████████████████████████▋   | 112kB 27.3MB/s eta 0:00:01\r\u001b[K     |███████████████████████████████▏| 122kB 27.3MB/s eta 0:00:01\r\u001b[K     |████████████████████████████████| 133kB 27.3MB/s \n",
            "\u001b[?25hRequirement already satisfied: requests in /usr/local/lib/python3.7/dist-packages (from vaderSentiment) (2.23.0)\n",
            "Requirement already satisfied: idna<3,>=2.5 in /usr/local/lib/python3.7/dist-packages (from requests->vaderSentiment) (2.10)\n",
            "Requirement already satisfied: certifi>=2017.4.17 in /usr/local/lib/python3.7/dist-packages (from requests->vaderSentiment) (2021.5.30)\n",
            "Requirement already satisfied: chardet<4,>=3.0.2 in /usr/local/lib/python3.7/dist-packages (from requests->vaderSentiment) (3.0.4)\n",
            "Requirement already satisfied: urllib3!=1.25.0,!=1.25.1,<1.26,>=1.21.1 in /usr/local/lib/python3.7/dist-packages (from requests->vaderSentiment) (1.24.3)\n",
            "Installing collected packages: vaderSentiment\n",
            "Successfully installed vaderSentiment-3.3.2\n"
          ],
          "name": "stdout"
        }
      ]
    },
    {
      "cell_type": "code",
      "metadata": {
        "id": "RMLQ025Evziy"
      },
      "source": [
        "from vaderSentiment.vaderSentiment import SentimentIntensityAnalyzer\n",
        "vs = SentimentIntensityAnalyzer()"
      ],
      "execution_count": 40,
      "outputs": []
    },
    {
      "cell_type": "code",
      "metadata": {
        "id": "REH1PNaqwMwp"
      },
      "source": [
        "# Web Scraping"
      ],
      "execution_count": 5,
      "outputs": []
    },
    {
      "cell_type": "code",
      "metadata": {
        "id": "xKZycY_1wQB9"
      },
      "source": [
        "import pandas as pd\n",
        "import numpy as np\n",
        "import requests\n",
        "from bs4 import BeautifulSoup\n",
        "import os"
      ],
      "execution_count": 1,
      "outputs": []
    },
    {
      "cell_type": "code",
      "metadata": {
        "id": "99BK9qRZwfeI"
      },
      "source": [
        "url1 = 'http://www.inshorts.com/en/read/sports'\n",
        "news_data = []\n",
        "news_category = url.split('/')[-1]\n",
        "data = requests.get(url)\n",
        "soup = BeautifulSoup(data.content)"
      ],
      "execution_count": 5,
      "outputs": []
    },
    {
      "cell_type": "code",
      "metadata": {
        "id": "YnBRhWS-xCIf"
      },
      "source": [
        "urls = ['http://www.inshorts.com/en/read/sports',\n",
        "        'http://www.inshorts.com/en/read/world',\n",
        "        'http://www.inshorts.com/en/read/politics']\n",
        "def build_dataset(urls):\n",
        "  news_data = []\n",
        "  for url in urls:\n",
        "    news_category = url.split('/')[-1]\n",
        "    data = requests.get(url)\n",
        "    soup = BeautifulSoup(data.content)\n",
        "\n",
        "    news_articles = [{'news_headline':headline.find('span',attrs={'itemprop':'headline'}).string,\n",
        "                      'news_article':article.find('div',attrs={'itemprop':'articleBody'}).string,\n",
        "                      'news_category':news_category}\n",
        "                     for headline,article in zip(soup.find_all('div',class_=['news-card-title news-right-box']),\n",
        "                                                 soup.find_all('div',class_=['news-card-content news-right-box']))]\n",
        "                     \n",
        "    news_articles = news_articles[0:20]\n",
        "    news_data.extend(news_articles)\n",
        "\n",
        "  df = pd.DataFrame(news_data)\n",
        "  df = df[['news_headline','news_article','news_category']]\n",
        "  return df\n"
      ],
      "execution_count": 8,
      "outputs": []
    },
    {
      "cell_type": "code",
      "metadata": {
        "colab": {
          "base_uri": "https://localhost:8080/",
          "height": 204
        },
        "id": "evUuxEmgUbob",
        "outputId": "4e1fa13f-eb6b-4b49-8eae-6cb2f573ce4c"
      },
      "source": [
        "df = build_dataset(urls)\n",
        "df.head(5)"
      ],
      "execution_count": 9,
      "outputs": [
        {
          "output_type": "execute_result",
          "data": {
            "text/html": [
              "<div>\n",
              "<style scoped>\n",
              "    .dataframe tbody tr th:only-of-type {\n",
              "        vertical-align: middle;\n",
              "    }\n",
              "\n",
              "    .dataframe tbody tr th {\n",
              "        vertical-align: top;\n",
              "    }\n",
              "\n",
              "    .dataframe thead th {\n",
              "        text-align: right;\n",
              "    }\n",
              "</style>\n",
              "<table border=\"1\" class=\"dataframe\">\n",
              "  <thead>\n",
              "    <tr style=\"text-align: right;\">\n",
              "      <th></th>\n",
              "      <th>news_headline</th>\n",
              "      <th>news_article</th>\n",
              "      <th>news_category</th>\n",
              "    </tr>\n",
              "  </thead>\n",
              "  <tbody>\n",
              "    <tr>\n",
              "      <th>0</th>\n",
              "      <td>Sri Lankan batting is very fragile, bowling a ...</td>\n",
              "      <td>Ahead of Team India's limited-overs series aga...</td>\n",
              "      <td>sports</td>\n",
              "    </tr>\n",
              "    <tr>\n",
              "      <th>1</th>\n",
              "      <td>What is the head-to-head record of India and S...</td>\n",
              "      <td>The three-match ODI series between India and S...</td>\n",
              "      <td>sports</td>\n",
              "    </tr>\n",
              "    <tr>\n",
              "      <th>2</th>\n",
              "      <td>Italy's Bonucci trolls England fans over 'Stic...</td>\n",
              "      <td>Italy defender Leonardo Bonucci took to Instag...</td>\n",
              "      <td>sports</td>\n",
              "    </tr>\n",
              "    <tr>\n",
              "      <th>3</th>\n",
              "      <td>Lionel Messi gets mobbed by hundreds of fans o...</td>\n",
              "      <td>Six-time Ballon d'Or winner Lionel Messi was m...</td>\n",
              "      <td>sports</td>\n",
              "    </tr>\n",
              "    <tr>\n",
              "      <th>4</th>\n",
              "      <td>2 athletes in Olympic Village test positive fo...</td>\n",
              "      <td>Two athletes residing in the Olympic Village f...</td>\n",
              "      <td>sports</td>\n",
              "    </tr>\n",
              "  </tbody>\n",
              "</table>\n",
              "</div>"
            ],
            "text/plain": [
              "                                       news_headline  ... news_category\n",
              "0  Sri Lankan batting is very fragile, bowling a ...  ...        sports\n",
              "1  What is the head-to-head record of India and S...  ...        sports\n",
              "2  Italy's Bonucci trolls England fans over 'Stic...  ...        sports\n",
              "3  Lionel Messi gets mobbed by hundreds of fans o...  ...        sports\n",
              "4  2 athletes in Olympic Village test positive fo...  ...        sports\n",
              "\n",
              "[5 rows x 3 columns]"
            ]
          },
          "metadata": {
            "tags": []
          },
          "execution_count": 9
        }
      ]
    },
    {
      "cell_type": "code",
      "metadata": {
        "id": "MSTHb8E5Uk7i"
      },
      "source": [
        "df.to_csv('news.csv')"
      ],
      "execution_count": 10,
      "outputs": []
    },
    {
      "cell_type": "code",
      "metadata": {
        "id": "Gs51RojMVyPr"
      },
      "source": [
        "df = pd.read_csv('/content/news.csv')"
      ],
      "execution_count": 58,
      "outputs": []
    },
    {
      "cell_type": "code",
      "metadata": {
        "colab": {
          "base_uri": "https://localhost:8080/",
          "height": 235
        },
        "id": "LWFGtJHRyVcu",
        "outputId": "5595fe0b-45c4-47c0-d3ba-7fde294505cf"
      },
      "source": [
        "df.head(6)"
      ],
      "execution_count": 59,
      "outputs": [
        {
          "output_type": "execute_result",
          "data": {
            "text/html": [
              "<div>\n",
              "<style scoped>\n",
              "    .dataframe tbody tr th:only-of-type {\n",
              "        vertical-align: middle;\n",
              "    }\n",
              "\n",
              "    .dataframe tbody tr th {\n",
              "        vertical-align: top;\n",
              "    }\n",
              "\n",
              "    .dataframe thead th {\n",
              "        text-align: right;\n",
              "    }\n",
              "</style>\n",
              "<table border=\"1\" class=\"dataframe\">\n",
              "  <thead>\n",
              "    <tr style=\"text-align: right;\">\n",
              "      <th></th>\n",
              "      <th>Unnamed: 0</th>\n",
              "      <th>news_headline</th>\n",
              "      <th>news_article</th>\n",
              "      <th>news_category</th>\n",
              "    </tr>\n",
              "  </thead>\n",
              "  <tbody>\n",
              "    <tr>\n",
              "      <th>0</th>\n",
              "      <td>0</td>\n",
              "      <td>Sri Lankan batting is very fragile, bowling a ...</td>\n",
              "      <td>Ahead of Team India's limited-overs series aga...</td>\n",
              "      <td>sports</td>\n",
              "    </tr>\n",
              "    <tr>\n",
              "      <th>1</th>\n",
              "      <td>1</td>\n",
              "      <td>What is the head-to-head record of India and S...</td>\n",
              "      <td>The three-match ODI series between India and S...</td>\n",
              "      <td>sports</td>\n",
              "    </tr>\n",
              "    <tr>\n",
              "      <th>2</th>\n",
              "      <td>2</td>\n",
              "      <td>Italy's Bonucci trolls England fans over 'Stic...</td>\n",
              "      <td>Italy defender Leonardo Bonucci took to Instag...</td>\n",
              "      <td>sports</td>\n",
              "    </tr>\n",
              "    <tr>\n",
              "      <th>3</th>\n",
              "      <td>3</td>\n",
              "      <td>Lionel Messi gets mobbed by hundreds of fans o...</td>\n",
              "      <td>Six-time Ballon d'Or winner Lionel Messi was m...</td>\n",
              "      <td>sports</td>\n",
              "    </tr>\n",
              "    <tr>\n",
              "      <th>4</th>\n",
              "      <td>4</td>\n",
              "      <td>2 athletes in Olympic Village test positive fo...</td>\n",
              "      <td>Two athletes residing in the Olympic Village f...</td>\n",
              "      <td>sports</td>\n",
              "    </tr>\n",
              "    <tr>\n",
              "      <th>5</th>\n",
              "      <td>5</td>\n",
              "      <td>How many medals have India won in the history ...</td>\n",
              "      <td>India have won 28 medals in Olympics history, ...</td>\n",
              "      <td>sports</td>\n",
              "    </tr>\n",
              "  </tbody>\n",
              "</table>\n",
              "</div>"
            ],
            "text/plain": [
              "   Unnamed: 0  ... news_category\n",
              "0           0  ...        sports\n",
              "1           1  ...        sports\n",
              "2           2  ...        sports\n",
              "3           3  ...        sports\n",
              "4           4  ...        sports\n",
              "5           5  ...        sports\n",
              "\n",
              "[6 rows x 4 columns]"
            ]
          },
          "metadata": {
            "tags": []
          },
          "execution_count": 59
        }
      ]
    },
    {
      "cell_type": "code",
      "metadata": {
        "id": "A95StQOKzKd4"
      },
      "source": [
        "df = df.drop(columns='Unnamed: 0',axis = 1)\n"
      ],
      "execution_count": 60,
      "outputs": []
    },
    {
      "cell_type": "code",
      "metadata": {
        "id": "lvc-5W5tzXwX"
      },
      "source": [
        "#preprocessing"
      ],
      "execution_count": 29,
      "outputs": []
    },
    {
      "cell_type": "code",
      "metadata": {
        "colab": {
          "base_uri": "https://localhost:8080/"
        },
        "id": "cRs0jwdnzkf3",
        "outputId": "9d3aa8d1-8f64-4e78-d5dd-6872d3bef031"
      },
      "source": [
        "#to remove stop words\n",
        "import nltk\n",
        "nltk.download('stopwords')\n",
        "stopword_list = nltk.corpus.stopwords.words('english')\n",
        "# remove no and not from stopwords list\n",
        "stopword_list.remove('no')\n",
        "stopword_list.remove('not')"
      ],
      "execution_count": 61,
      "outputs": [
        {
          "output_type": "stream",
          "text": [
            "[nltk_data] Downloading package stopwords to /root/nltk_data...\n",
            "[nltk_data]   Package stopwords is already up-to-date!\n"
          ],
          "name": "stdout"
        }
      ]
    },
    {
      "cell_type": "code",
      "metadata": {
        "colab": {
          "base_uri": "https://localhost:8080/"
        },
        "id": "g2Ul4l-U1M-B",
        "outputId": "c16569f4-7526-401c-f106-f7f0603cc20c"
      },
      "source": [
        "len(stopword_list)"
      ],
      "execution_count": 31,
      "outputs": [
        {
          "output_type": "execute_result",
          "data": {
            "text/plain": [
              "177"
            ]
          },
          "metadata": {
            "tags": []
          },
          "execution_count": 31
        }
      ]
    },
    {
      "cell_type": "code",
      "metadata": {
        "id": "JAOScUsD9Cm4"
      },
      "source": [
        "#to remove HTML tags \n",
        "def html_tag(text):\n",
        "  soup = BeautifulSoup(text,'html.parser')\n",
        "  new_text = soup.get_text()\n",
        "  return new_text\n",
        "\n"
      ],
      "execution_count": 62,
      "outputs": []
    },
    {
      "cell_type": "code",
      "metadata": {
        "colab": {
          "base_uri": "https://localhost:8080/"
        },
        "id": "dMY8PRol9zib",
        "outputId": "ab3cb3c7-bee2-4ddc-fdb5-eea424b2cb93"
      },
      "source": [
        "# to remove contractions \n",
        "!pip install contractions\n",
        "import contractions\n",
        "def con(text):\n",
        "  expand = contractions.fix(text)\n",
        "  return expand\n"
      ],
      "execution_count": 63,
      "outputs": [
        {
          "output_type": "stream",
          "text": [
            "Requirement already satisfied: contractions in /usr/local/lib/python3.7/dist-packages (0.0.52)\n",
            "Requirement already satisfied: textsearch>=0.0.21 in /usr/local/lib/python3.7/dist-packages (from contractions) (0.0.21)\n",
            "Requirement already satisfied: pyahocorasick in /usr/local/lib/python3.7/dist-packages (from textsearch>=0.0.21->contractions) (1.4.2)\n",
            "Requirement already satisfied: anyascii in /usr/local/lib/python3.7/dist-packages (from textsearch>=0.0.21->contractions) (0.2.0)\n"
          ],
          "name": "stdout"
        }
      ]
    },
    {
      "cell_type": "code",
      "metadata": {
        "id": "pmrLVy7i_NF-"
      },
      "source": [
        "#to remove special characters\n",
        "import re\n",
        "def remove_sp(text):\n",
        "  pattern = r'[^A-Za-z0-9\\s]'\n",
        "  text = re.sub(pattern,'',text)\n",
        "  return text \n",
        "  "
      ],
      "execution_count": 64,
      "outputs": []
    },
    {
      "cell_type": "code",
      "metadata": {
        "id": "ZcFzUlCZFu_j"
      },
      "source": [
        "from nltk.tokenize.toktok import ToktokTokenizer\n",
        "tokenizer = ToktokTokenizer()"
      ],
      "execution_count": 65,
      "outputs": []
    },
    {
      "cell_type": "code",
      "metadata": {
        "id": "u7CZRIXtCxcX"
      },
      "source": [
        "#to remove stop words - is, the, a etc \n",
        "#1. Tokenization - split in form of lists of words\n",
        "def remove_stopwords(text):\n",
        "  tokens = tokenizer.tokenize(text)\n",
        "  tokens = [token.strip() for token in tokens]\n",
        "  filtered_tokens = [token for token in tokens if token not in stopword_list]\n",
        "  filtered_text = ' '.join(filtered_tokens)\n",
        "  return filtered_text\n"
      ],
      "execution_count": 66,
      "outputs": []
    },
    {
      "cell_type": "code",
      "metadata": {
        "colab": {
          "base_uri": "https://localhost:8080/",
          "height": 204
        },
        "id": "iyEK34raGHsy",
        "outputId": "14cb883a-70b0-4a25-d349-30d5ab678162"
      },
      "source": [
        "# 1. LOwer case 2. HTML tag 3.Contractions 4.Special Characters 5. Stop words\n",
        "df.news_article = df.news_article.apply(lambda x:x.lower())\n",
        "df.news_headline = df.news_headline.apply(lambda x:x.lower())\n",
        "\n",
        "df.news_article = df.news_article.apply(html_tag)\n",
        "df.news_headline = df.news_headline.apply(html_tag)\n",
        "\n",
        "df.news_article = df.news_article.apply(con)\n",
        "df.news_headline = df.news_headline.apply(con)\n",
        "\n",
        "df.news_article = df.news_article.apply(remove_sp)\n",
        "df.news_headline = df.news_headline.apply(remove_sp)\n",
        "\n",
        "df.news_article = df.news_article.apply(remove_stopwords)\n",
        "df.news_headline = df.news_headline.apply(remove_stopwords)\n",
        "\n",
        "df.head()"
      ],
      "execution_count": 67,
      "outputs": [
        {
          "output_type": "execute_result",
          "data": {
            "text/html": [
              "<div>\n",
              "<style scoped>\n",
              "    .dataframe tbody tr th:only-of-type {\n",
              "        vertical-align: middle;\n",
              "    }\n",
              "\n",
              "    .dataframe tbody tr th {\n",
              "        vertical-align: top;\n",
              "    }\n",
              "\n",
              "    .dataframe thead th {\n",
              "        text-align: right;\n",
              "    }\n",
              "</style>\n",
              "<table border=\"1\" class=\"dataframe\">\n",
              "  <thead>\n",
              "    <tr style=\"text-align: right;\">\n",
              "      <th></th>\n",
              "      <th>news_headline</th>\n",
              "      <th>news_article</th>\n",
              "      <th>news_category</th>\n",
              "    </tr>\n",
              "  </thead>\n",
              "  <tbody>\n",
              "    <tr>\n",
              "      <th>0</th>\n",
              "      <td>sri lankan batting fragile bowling little stro...</td>\n",
              "      <td>ahead team indias limitedovers series sri lank...</td>\n",
              "      <td>sports</td>\n",
              "    </tr>\n",
              "    <tr>\n",
              "      <th>1</th>\n",
              "      <td>headtohead record india sri lanka odi cricket ...</td>\n",
              "      <td>threematch odi series india sri lanka start 3 ...</td>\n",
              "      <td>sports</td>\n",
              "    </tr>\n",
              "    <tr>\n",
              "      <th>2</th>\n",
              "      <td>italys bonucci trolls england fans stick twirl...</td>\n",
              "      <td>italy defender leonardo bonucci took instagram...</td>\n",
              "      <td>sports</td>\n",
              "    </tr>\n",
              "    <tr>\n",
              "      <th>3</th>\n",
              "      <td>lionel messi gets mobbed hundreds fans outside...</td>\n",
              "      <td>sixtime ballon dor winner lionel messi mobbed ...</td>\n",
              "      <td>sports</td>\n",
              "    </tr>\n",
              "    <tr>\n",
              "      <th>4</th>\n",
              "      <td>2 athletes olympic village test positive covid...</td>\n",
              "      <td>two athletes residing olympic village tokyo 20...</td>\n",
              "      <td>sports</td>\n",
              "    </tr>\n",
              "  </tbody>\n",
              "</table>\n",
              "</div>"
            ],
            "text/plain": [
              "                                       news_headline  ... news_category\n",
              "0  sri lankan batting fragile bowling little stro...  ...        sports\n",
              "1  headtohead record india sri lanka odi cricket ...  ...        sports\n",
              "2  italys bonucci trolls england fans stick twirl...  ...        sports\n",
              "3  lionel messi gets mobbed hundreds fans outside...  ...        sports\n",
              "4  2 athletes olympic village test positive covid...  ...        sports\n",
              "\n",
              "[5 rows x 3 columns]"
            ]
          },
          "metadata": {
            "tags": []
          },
          "execution_count": 67
        }
      ]
    },
    {
      "cell_type": "code",
      "metadata": {
        "colab": {
          "base_uri": "https://localhost:8080/",
          "height": 204
        },
        "id": "JjE-GdREJEk7",
        "outputId": "d410652b-d3c1-464a-c6b2-51108ceb5f20"
      },
      "source": [
        "df['compound'] = df['news_article'].apply(lambda x: vs.polarity_scores(x)['compound'])\n",
        "df.head()"
      ],
      "execution_count": 68,
      "outputs": [
        {
          "output_type": "execute_result",
          "data": {
            "text/html": [
              "<div>\n",
              "<style scoped>\n",
              "    .dataframe tbody tr th:only-of-type {\n",
              "        vertical-align: middle;\n",
              "    }\n",
              "\n",
              "    .dataframe tbody tr th {\n",
              "        vertical-align: top;\n",
              "    }\n",
              "\n",
              "    .dataframe thead th {\n",
              "        text-align: right;\n",
              "    }\n",
              "</style>\n",
              "<table border=\"1\" class=\"dataframe\">\n",
              "  <thead>\n",
              "    <tr style=\"text-align: right;\">\n",
              "      <th></th>\n",
              "      <th>news_headline</th>\n",
              "      <th>news_article</th>\n",
              "      <th>news_category</th>\n",
              "      <th>compound</th>\n",
              "    </tr>\n",
              "  </thead>\n",
              "  <tbody>\n",
              "    <tr>\n",
              "      <th>0</th>\n",
              "      <td>sri lankan batting fragile bowling little stro...</td>\n",
              "      <td>ahead team indias limitedovers series sri lank...</td>\n",
              "      <td>sports</td>\n",
              "      <td>0.1298</td>\n",
              "    </tr>\n",
              "    <tr>\n",
              "      <th>1</th>\n",
              "      <td>headtohead record india sri lanka odi cricket ...</td>\n",
              "      <td>threematch odi series india sri lanka start 3 ...</td>\n",
              "      <td>sports</td>\n",
              "      <td>0.0516</td>\n",
              "    </tr>\n",
              "    <tr>\n",
              "      <th>2</th>\n",
              "      <td>italys bonucci trolls england fans stick twirl...</td>\n",
              "      <td>italy defender leonardo bonucci took instagram...</td>\n",
              "      <td>sports</td>\n",
              "      <td>0.5423</td>\n",
              "    </tr>\n",
              "    <tr>\n",
              "      <th>3</th>\n",
              "      <td>lionel messi gets mobbed hundreds fans outside...</td>\n",
              "      <td>sixtime ballon dor winner lionel messi mobbed ...</td>\n",
              "      <td>sports</td>\n",
              "      <td>0.6249</td>\n",
              "    </tr>\n",
              "    <tr>\n",
              "      <th>4</th>\n",
              "      <td>2 athletes olympic village test positive covid...</td>\n",
              "      <td>two athletes residing olympic village tokyo 20...</td>\n",
              "      <td>sports</td>\n",
              "      <td>0.8957</td>\n",
              "    </tr>\n",
              "  </tbody>\n",
              "</table>\n",
              "</div>"
            ],
            "text/plain": [
              "                                       news_headline  ... compound\n",
              "0  sri lankan batting fragile bowling little stro...  ...   0.1298\n",
              "1  headtohead record india sri lanka odi cricket ...  ...   0.0516\n",
              "2  italys bonucci trolls england fans stick twirl...  ...   0.5423\n",
              "3  lionel messi gets mobbed hundreds fans outside...  ...   0.6249\n",
              "4  2 athletes olympic village test positive covid...  ...   0.8957\n",
              "\n",
              "[5 rows x 4 columns]"
            ]
          },
          "metadata": {
            "tags": []
          },
          "execution_count": 68
        }
      ]
    },
    {
      "cell_type": "code",
      "metadata": {
        "id": "4r6HtvdwKzAR"
      },
      "source": [
        "df['sentiment'] = df['compound'].apply(lambda x: 'positive' if x>=0.05 else ('negative' if x<=-0.05 else 'neutral'))\n",
        "#df['sentiment'] = df['compound'].apply(lambda x: 'negative' if x<=-0.05 else None)\n"
      ],
      "execution_count": 78,
      "outputs": []
    },
    {
      "cell_type": "code",
      "metadata": {
        "colab": {
          "base_uri": "https://localhost:8080/",
          "height": 204
        },
        "id": "dyZHNx-jL0UT",
        "outputId": "ab60f88d-449e-4fc5-d407-e0014fe449b9"
      },
      "source": [
        "df.head()"
      ],
      "execution_count": 79,
      "outputs": [
        {
          "output_type": "execute_result",
          "data": {
            "text/html": [
              "<div>\n",
              "<style scoped>\n",
              "    .dataframe tbody tr th:only-of-type {\n",
              "        vertical-align: middle;\n",
              "    }\n",
              "\n",
              "    .dataframe tbody tr th {\n",
              "        vertical-align: top;\n",
              "    }\n",
              "\n",
              "    .dataframe thead th {\n",
              "        text-align: right;\n",
              "    }\n",
              "</style>\n",
              "<table border=\"1\" class=\"dataframe\">\n",
              "  <thead>\n",
              "    <tr style=\"text-align: right;\">\n",
              "      <th></th>\n",
              "      <th>news_headline</th>\n",
              "      <th>news_article</th>\n",
              "      <th>news_category</th>\n",
              "      <th>compound</th>\n",
              "      <th>sentiment</th>\n",
              "    </tr>\n",
              "  </thead>\n",
              "  <tbody>\n",
              "    <tr>\n",
              "      <th>0</th>\n",
              "      <td>sri lankan batting fragile bowling little stro...</td>\n",
              "      <td>ahead team indias limitedovers series sri lank...</td>\n",
              "      <td>sports</td>\n",
              "      <td>0.1298</td>\n",
              "      <td>positive</td>\n",
              "    </tr>\n",
              "    <tr>\n",
              "      <th>1</th>\n",
              "      <td>headtohead record india sri lanka odi cricket ...</td>\n",
              "      <td>threematch odi series india sri lanka start 3 ...</td>\n",
              "      <td>sports</td>\n",
              "      <td>0.0516</td>\n",
              "      <td>positive</td>\n",
              "    </tr>\n",
              "    <tr>\n",
              "      <th>2</th>\n",
              "      <td>italys bonucci trolls england fans stick twirl...</td>\n",
              "      <td>italy defender leonardo bonucci took instagram...</td>\n",
              "      <td>sports</td>\n",
              "      <td>0.5423</td>\n",
              "      <td>positive</td>\n",
              "    </tr>\n",
              "    <tr>\n",
              "      <th>3</th>\n",
              "      <td>lionel messi gets mobbed hundreds fans outside...</td>\n",
              "      <td>sixtime ballon dor winner lionel messi mobbed ...</td>\n",
              "      <td>sports</td>\n",
              "      <td>0.6249</td>\n",
              "      <td>positive</td>\n",
              "    </tr>\n",
              "    <tr>\n",
              "      <th>4</th>\n",
              "      <td>2 athletes olympic village test positive covid...</td>\n",
              "      <td>two athletes residing olympic village tokyo 20...</td>\n",
              "      <td>sports</td>\n",
              "      <td>0.8957</td>\n",
              "      <td>positive</td>\n",
              "    </tr>\n",
              "  </tbody>\n",
              "</table>\n",
              "</div>"
            ],
            "text/plain": [
              "                                       news_headline  ... sentiment\n",
              "0  sri lankan batting fragile bowling little stro...  ...  positive\n",
              "1  headtohead record india sri lanka odi cricket ...  ...  positive\n",
              "2  italys bonucci trolls england fans stick twirl...  ...  positive\n",
              "3  lionel messi gets mobbed hundreds fans outside...  ...  positive\n",
              "4  2 athletes olympic village test positive covid...  ...  positive\n",
              "\n",
              "[5 rows x 5 columns]"
            ]
          },
          "metadata": {
            "tags": []
          },
          "execution_count": 79
        }
      ]
    },
    {
      "cell_type": "code",
      "metadata": {
        "colab": {
          "base_uri": "https://localhost:8080/"
        },
        "id": "VikLwZXaZ5sd",
        "outputId": "40d67a8a-fd79-4a5d-c12f-3372c93aa225"
      },
      "source": [
        "df['sentiment'].value_counts()"
      ],
      "execution_count": 80,
      "outputs": [
        {
          "output_type": "execute_result",
          "data": {
            "text/plain": [
              "negative    30\n",
              "positive    24\n",
              "neutral      6\n",
              "Name: sentiment, dtype: int64"
            ]
          },
          "metadata": {
            "tags": []
          },
          "execution_count": 80
        }
      ]
    },
    {
      "cell_type": "code",
      "metadata": {
        "id": "370RnH08aA6-"
      },
      "source": [
        ""
      ],
      "execution_count": null,
      "outputs": []
    }
  ]
}